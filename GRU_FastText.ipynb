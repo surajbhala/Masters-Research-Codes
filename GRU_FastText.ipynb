{
 "cells": [
  {
   "cell_type": "code",
   "execution_count": 1,
   "metadata": {
    "colab": {
     "base_uri": "https://localhost:8080/",
     "height": 70
    },
    "colab_type": "code",
    "executionInfo": {
     "elapsed": 8519,
     "status": "ok",
     "timestamp": 1600614354872,
     "user": {
      "displayName": "Foodie Rasa",
      "photoUrl": "",
      "userId": "07023337058901442489"
     },
     "user_tz": -330
    },
    "id": "pPygYH6SLqJp",
    "outputId": "93b91a49-cb49-43c3-c46f-8195e288d7af"
   },
   "outputs": [],
   "source": [
    "from keras.preprocessing.text import Tokenizer\n",
    "from keras.preprocessing.sequence import pad_sequences\n",
    "\n",
    "import os\n",
    "import numpy as np # linear algebra\n",
    "import pandas as pd # data processing, CSV file I/O (e.g. pd.read_csv)\n",
    "import string\n",
    "from tqdm import tqdm\n",
    "import math\n",
    "from sklearn.model_selection import train_test_split\n",
    "import re\n",
    "import matplotlib.pyplot as plt\n",
    "import seaborn as sns"
   ]
  },
  {
   "cell_type": "code",
   "execution_count": 3,
   "metadata": {
    "colab": {},
    "colab_type": "code",
    "executionInfo": {
     "elapsed": 1437,
     "status": "ok",
     "timestamp": 1600614546240,
     "user": {
      "displayName": "Foodie Rasa",
      "photoUrl": "",
      "userId": "07023337058901442489"
     },
     "user_tz": -330
    },
    "id": "Jg_DIRABNA5I"
   },
   "outputs": [],
   "source": [
    "import numpy as np # linear algebra\n",
    "import pandas as pd # data processing, CSV file I/O (e.g. pd.read_csv)\n",
    "                    \n",
    "import os\n",
    "import seaborn as sns\n",
    "\n",
    "from sklearn.model_selection import train_test_split\n",
    "from sklearn.metrics import accuracy_score,confusion_matrix,classification_report,f1_score, precision_score, recall_score\n",
    "from sklearn.metrics import classification_report\n",
    "from tensorflow import keras\n",
    "from tensorflow.keras import layers\n",
    "from tensorflow.keras.layers import Bidirectional, GlobalMaxPooling1D, GlobalAveragePooling1D, concatenate,GlobalMaxPool1D\n",
    "\n"
   ]
  },
  {
   "cell_type": "code",
   "execution_count": 4,
   "metadata": {},
   "outputs": [
    {
     "name": "stdout",
     "output_type": "stream",
     "text": [
      "Number of rows of train dataframe : 128000 and number of columns in train dataframe : 3\n"
     ]
    }
   ],
   "source": [
    "## Reading the train and test dataframes already created\n",
    "df_train = pd.read_csv('df_train.csv')\n",
    "\n",
    "df_train.head(5)\n",
    "print('Number of rows of train dataframe : {} and number of columns in train dataframe : {}'.format(df_train.shape[0],df_train.shape[1]))"
   ]
  },
  {
   "cell_type": "code",
   "execution_count": 5,
   "metadata": {},
   "outputs": [
    {
     "name": "stdout",
     "output_type": "stream",
     "text": [
      "Number of rows of test dataframe : 32000 and number of columns in test dataframe : 3\n"
     ]
    }
   ],
   "source": [
    "## Reading the train and test dataframes already created\n",
    "df_test = pd.read_csv('df_test.csv')\n",
    "\n",
    "df_test.head(5)\n",
    "print('Number of rows of test dataframe : {} and number of columns in test dataframe : {}'.format(df_test.shape[0],df_test.shape[1]))"
   ]
  },
  {
   "cell_type": "code",
   "execution_count": 6,
   "metadata": {
    "colab": {},
    "colab_type": "code",
    "executionInfo": {
     "elapsed": 84681,
     "status": "ok",
     "timestamp": 1600614431179,
     "user": {
      "displayName": "Foodie Rasa",
      "photoUrl": "",
      "userId": "07023337058901442489"
     },
     "user_tz": -330
    },
    "id": "qh2eyqdLzOp8"
   },
   "outputs": [],
   "source": [
    "## some config values \n",
    "embed_size = 300 # how big is each word vector\n",
    "max_features = 51000 # how many unique words to use (i.e num rows in embedding vector)\n",
    "maxlen = 100 # max number of words in a question to use\n",
    "\n",
    "## fill up the missing values\n",
    "X_train = df_train[\"question_text\"].fillna(\"_na_\").values\n",
    "X_test = df_test[\"question_text\"].fillna(\"_na_\").values\n",
    "#test_X = test_df[\"question_text\"].fillna(\"_na_\").values\n",
    "\n",
    "## Tokenize the sentences\n",
    "tokenizer = Tokenizer(num_words=max_features)\n",
    "tokenizer.fit_on_texts(list(X_train))\n",
    "X_train = tokenizer.texts_to_sequences(X_train)\n",
    "X_test = tokenizer.texts_to_sequences(X_test)\n",
    "#test_X = tokenizer.texts_to_sequences(test_X)\n",
    "\n",
    "## Pad the sentences \n",
    "X_train = pad_sequences(X_train, maxlen=maxlen)\n",
    "X_test = pad_sequences(X_test, maxlen=maxlen)\n",
    "#test_X = pad_sequences(test_X, maxlen=maxlen)\n",
    "\n",
    "## Get the target values\n",
    "y_train = df_train['target'].values\n",
    "y_test = df_test['target'].values\n"
   ]
  },
  {
   "cell_type": "code",
   "execution_count": 7,
   "metadata": {
    "colab": {
     "base_uri": "https://localhost:8080/",
     "height": 70
    },
    "colab_type": "code",
    "executionInfo": {
     "elapsed": 168663,
     "status": "ok",
     "timestamp": 1600614515174,
     "user": {
      "displayName": "Foodie Rasa",
      "photoUrl": "",
      "userId": "07023337058901442489"
     },
     "user_tz": -330
    },
    "id": "pLgUrjr6NN2D",
    "outputId": "0305129d-0f73-4dab-d366-36d292cf5dc7"
   },
   "outputs": [
    {
     "name": "stderr",
     "output_type": "stream",
     "text": [
      "/mnt/disks/user/anaconda3/lib/python3.7/site-packages/ipykernel_launcher.py:5: FutureWarning: arrays to stack must be passed as a \"sequence\" type such as list or tuple. Support for non-sequence iterables such as generators is deprecated as of NumPy 1.16 and will raise an error in the future.\n",
      "  \"\"\"\n"
     ]
    }
   ],
   "source": [
    "EMBEDDING_FILE = 'wiki-news-300d-1M-subword.vec'\n",
    "def get_coefs(word,*arr): return word, np.asarray(arr, dtype='float32')\n",
    "embeddings_index = dict(get_coefs(*o.split(\" \")) for o in open(EMBEDDING_FILE) if len(o)>100)\n",
    "\n",
    "all_embs = np.stack(embeddings_index.values())\n",
    "emb_mean,emb_std = all_embs.mean(), all_embs.std()\n",
    "embed_size = all_embs.shape[1]\n",
    "\n",
    "word_index = tokenizer.word_index\n",
    "nb_words = min(max_features, len(word_index))\n",
    "embedding_matrix = np.random.normal(emb_mean, emb_std, (nb_words, embed_size))\n",
    "for word, i in word_index.items():\n",
    "    if i >= max_features: continue\n",
    "    embedding_vector = embeddings_index.get(word)\n",
    "    if embedding_vector is not None: embedding_matrix[i] = embedding_vector\n",
    "        \n"
   ]
  },
  {
   "cell_type": "code",
   "execution_count": 8,
   "metadata": {
    "colab": {
     "base_uri": "https://localhost:8080/",
     "height": 403
    },
    "colab_type": "code",
    "executionInfo": {
     "elapsed": 2526,
     "status": "ok",
     "timestamp": 1600614552607,
     "user": {
      "displayName": "Foodie Rasa",
      "photoUrl": "",
      "userId": "07023337058901442489"
     },
     "user_tz": -330
    },
    "id": "sFbFoBXFNSJJ",
    "outputId": "18085efe-1cd5-4fb9-9d5e-4684288991ba"
   },
   "outputs": [
    {
     "name": "stdout",
     "output_type": "stream",
     "text": [
      "Model: \"model\"\n",
      "_________________________________________________________________\n",
      "Layer (type)                 Output Shape              Param #   \n",
      "=================================================================\n",
      "input_1 (InputLayer)         [(None, 100)]             0         \n",
      "_________________________________________________________________\n",
      "embedding (Embedding)        (None, 100, 300)          15300000  \n",
      "_________________________________________________________________\n",
      "bidirectional (Bidirectional (None, 100, 600)          1083600   \n",
      "_________________________________________________________________\n",
      "bidirectional_1 (Bidirection (None, 100, 600)          1623600   \n",
      "_________________________________________________________________\n",
      "bidirectional_2 (Bidirection (None, 100, 600)          1623600   \n",
      "_________________________________________________________________\n",
      "global_max_pooling1d (Global (None, 600)               0         \n",
      "_________________________________________________________________\n",
      "dense (Dense)                (None, 16)                9616      \n",
      "_________________________________________________________________\n",
      "dropout (Dropout)            (None, 16)                0         \n",
      "_________________________________________________________________\n",
      "dense_1 (Dense)              (None, 1)                 17        \n",
      "=================================================================\n",
      "Total params: 19,640,433\n",
      "Trainable params: 19,640,433\n",
      "Non-trainable params: 0\n",
      "_________________________________________________________________\n",
      "None\n"
     ]
    }
   ],
   "source": [
    "inp = Input(shape=(maxlen,))\n",
    "x = layers.Embedding(max_features, embed_size, weights=[embedding_matrix])(inp)\n",
    "x = layers.Bidirectional(layers.GRU(300, return_sequences = True))(x)\n",
    "x = layers.Bidirectional(layers.GRU(300, return_sequences = True))(x)\n",
    "x = layers.Bidirectional(layers.GRU(300, return_sequences = True))(x)\n",
    "x = GlobalMaxPool1D()(x)\n",
    "x = Dense(16, activation=\"relu\")(x)\n",
    "x = Dropout(0.1)(x)\n",
    "x = layers.Dense(1, activation=\"sigmoid\")(x)\n",
    "model = Model(inputs=inp, outputs=x)\n",
    "opt = keras.optimizers.Adam(learning_rate=0.0001)\n",
    "model.compile(loss='binary_crossentropy', optimizer=opt, metrics=['accuracy'])\n",
    "print(model.summary())"
   ]
  },
  {
   "cell_type": "code",
   "execution_count": 26,
   "metadata": {
    "colab": {},
    "colab_type": "code",
    "executionInfo": {
     "elapsed": 1947,
     "status": "ok",
     "timestamp": 1600614556179,
     "user": {
      "displayName": "Foodie Rasa",
      "photoUrl": "",
      "userId": "07023337058901442489"
     },
     "user_tz": -330
    },
    "id": "tYs2mdJgNSRz"
   },
   "outputs": [],
   "source": []
  },
  {
   "cell_type": "code",
   "execution_count": 9,
   "metadata": {
    "colab": {
     "base_uri": "https://localhost:8080/",
     "height": 202
    },
    "colab_type": "code",
    "executionInfo": {
     "elapsed": 1484180,
     "status": "ok",
     "timestamp": 1600616038637,
     "user": {
      "displayName": "Foodie Rasa",
      "photoUrl": "",
      "userId": "07023337058901442489"
     },
     "user_tz": -330
    },
    "id": "tFcs5-NdOQHU",
    "outputId": "323b069d-8957-40c1-94b4-b4f96859b0ca"
   },
   "outputs": [
    {
     "name": "stdout",
     "output_type": "stream",
     "text": [
      "Epoch 1/5\n",
      "1000/1000 [==============================] - 501s 501ms/step - loss: 0.3150 - accuracy: 0.8735\n",
      "Epoch 2/5\n",
      "1000/1000 [==============================] - 504s 504ms/step - loss: 0.2386 - accuracy: 0.9108\n",
      "Epoch 3/5\n",
      "1000/1000 [==============================] - 505s 505ms/step - loss: 0.2107 - accuracy: 0.9224\n",
      "Epoch 4/5\n",
      "1000/1000 [==============================] - 502s 502ms/step - loss: 0.1871 - accuracy: 0.9324\n",
      "Epoch 5/5\n",
      "1000/1000 [==============================] - 504s 504ms/step - loss: 0.1651 - accuracy: 0.9405\n"
     ]
    },
    {
     "data": {
      "text/plain": [
       "<tensorflow.python.keras.callbacks.History at 0x7f41c7777630>"
      ]
     },
     "execution_count": 9,
     "metadata": {},
     "output_type": "execute_result"
    }
   ],
   "source": [
    "model.fit(X_train,y_train,epochs=5, batch_size=128, verbose=1)"
   ]
  },
  {
   "cell_type": "code",
   "execution_count": 10,
   "metadata": {
    "colab": {},
    "colab_type": "code",
    "executionInfo": {
     "elapsed": 1238928,
     "status": "ok",
     "timestamp": 1600616038643,
     "user": {
      "displayName": "Foodie Rasa",
      "photoUrl": "",
      "userId": "07023337058901442489"
     },
     "user_tz": -330
    },
    "id": "v-cEQw1YOz2s"
   },
   "outputs": [],
   "source": [
    "def line_search_f1_score(y_score, y_test):\n",
    "    max_f1_score = 0\n",
    "    opt_threshold = 0\n",
    "    for threshold in [i*0.01 for i in range(100)]:\n",
    "        y_preds = y_score > threshold\n",
    "        score = f1_score(y_preds, y_test)\n",
    "        if max_f1_score < score:\n",
    "            max_f1_score = score\n",
    "            opt_threshold = threshold\n",
    "    return max_f1_score, opt_threshold"
   ]
  },
  {
   "cell_type": "code",
   "execution_count": 11,
   "metadata": {
    "colab": {
     "base_uri": "https://localhost:8080/",
     "height": 34
    },
    "colab_type": "code",
    "executionInfo": {
     "elapsed": 1249219,
     "status": "ok",
     "timestamp": 1600616049336,
     "user": {
      "displayName": "Foodie Rasa",
      "photoUrl": "",
      "userId": "07023337058901442489"
     },
     "user_tz": -330
    },
    "id": "eTl7ZLcgORtw",
    "outputId": "649e8c7c-2a35-4510-b691-55c34aed1fb9"
   },
   "outputs": [
    {
     "name": "stdout",
     "output_type": "stream",
     "text": [
      "1000/1000 [==============================] - 75s 75ms/step\n"
     ]
    }
   ],
   "source": [
    "predictions = model.predict(X_test, verbose=1)\n",
    "max_f1_score, threshold = line_search_f1_score(predictions, y_test)"
   ]
  },
  {
   "cell_type": "code",
   "execution_count": 12,
   "metadata": {
    "colab": {
     "base_uri": "https://localhost:8080/",
     "height": 34
    },
    "colab_type": "code",
    "executionInfo": {
     "elapsed": 1248820,
     "status": "ok",
     "timestamp": 1600616049337,
     "user": {
      "displayName": "Foodie Rasa",
      "photoUrl": "",
      "userId": "07023337058901442489"
     },
     "user_tz": -330
    },
    "id": "2Hsl63e2Osab",
    "outputId": "7091712b-3ebd-44fa-f000-1cca3770bcb6"
   },
   "outputs": [
    {
     "name": "stdout",
     "output_type": "stream",
     "text": [
      "0.8867308041386822 0.4\n"
     ]
    }
   ],
   "source": [
    "print(max_f1_score,threshold)"
   ]
  },
  {
   "cell_type": "code",
   "execution_count": 13,
   "metadata": {
    "colab": {},
    "colab_type": "code",
    "executionInfo": {
     "elapsed": 172013,
     "status": "aborted",
     "timestamp": 1600614518590,
     "user": {
      "displayName": "Foodie Rasa",
      "photoUrl": "",
      "userId": "07023337058901442489"
     },
     "user_tz": -330
    },
    "id": "3-WdkrHWO7P7"
   },
   "outputs": [],
   "source": [
    "preds = [1 if x > 0.4 else 0 for x in predictions]"
   ]
  },
  {
   "cell_type": "code",
   "execution_count": null,
   "metadata": {
    "colab": {},
    "colab_type": "code",
    "executionInfo": {
     "elapsed": 172010,
     "status": "aborted",
     "timestamp": 1600614518591,
     "user": {
      "displayName": "Foodie Rasa",
      "photoUrl": "",
      "userId": "07023337058901442489"
     },
     "user_tz": -330
    },
    "id": "I3trcZqc_nZD"
   },
   "outputs": [
    {
     "data": {
      "text/plain": [
       "<matplotlib.axes._subplots.AxesSubplot at 0x7f412075d7f0>"
      ]
     },
     "execution_count": 14,
     "metadata": {},
     "output_type": "execute_result"
    },
    {
     "data": {
      "image/png": "[encoded data removed]",
      "text/plain": [
       "<Figure size 432x288 with 2 Axes>"
      ]
     },
     "metadata": {
      "needs_background": "light"
     },
     "output_type": "display_data"
    }
   ],
   "source": [
    "cf_matrix = confusion_matrix(preds, y_test)\n",
    "\n",
    "import seaborn as sns\n",
    "group_names = ['True Neg','False Pos','False Neg','True Pos']\n",
    "group_counts = ['{0:0.0f}'.format(value) for value in\n",
    "                cf_matrix.flatten()]\n",
    "group_percentages = ['{0:.2%}'.format(value) for value in\n",
    "                     cf_matrix.flatten()/np.sum(cf_matrix)]\n",
    "labels = [f'{v1}\\n{v2}\\n{v3}' for v1, v2, v3 in\n",
    "          zip(group_names,group_counts,group_percentages)]\n",
    "labels = np.asarray(labels).reshape(2,2)\n",
    "sns.heatmap(cf_matrix, annot=labels, fmt='', cmap='Blues')"
   ]
  },
  {
   "cell_type": "code",
   "execution_count": null,
   "metadata": {},
   "outputs": [
    {
     "data": {
      "text/plain": [
       "<matplotlib.axes._subplots.AxesSubplot at 0x7f412064d668>"
      ]
     },
     "execution_count": 15,
     "metadata": {},
     "output_type": "execute_result"
    }
   ],
   "source": [
    "clf_report = classification_report(y_test,\n",
    "                                   preds,\n",
    "                                   labels=[0,1],\n",
    "                                   output_dict=True)\n",
    "\n",
    "fig, ax = plt.subplots(figsize=(12,12)) \n",
    "sns.heatmap(pd.DataFrame(clf_report).iloc[:-1, :].T, annot=True,ax=ax,square = False)"
   ]
  },
  {
   "cell_type": "code",
   "execution_count": null,
   "metadata": {},
   "outputs": [],
   "source": [
    "print(accuracy_score(preds,y_test))"
   ]
  },
  {
   "cell_type": "code",
   "execution_count": null,
   "metadata": {},
   "outputs": [],
   "source": []
  }
 ],
 "metadata": {
  "accelerator": "GPU",
  "colab": {
   "authorship_tag": "ABX9TyNLeWz1GrZToooapIENtjSn",
   "collapsed_sections": [],
   "mount_file_id": "1K6w1Kt2L5zqZbxsgx4kkdT7RqjfaAmJM",
   "name": "GRU_FastText.ipynb",
   "provenance": [
    {
     "file_id": "1JEmwuc7fF_2_aYs7KR8R1kePAh52E6wG",
     "timestamp": 1600613569625
    },
    {
     "file_id": "1K6w1Kt2L5zqZbxsgx4kkdT7RqjfaAmJM",
     "timestamp": 1600580770777
    },
    {
     "file_id": "17_6UqANbu1XGp-tQ-g9UnFxHY-S_dPT3",
     "timestamp": 1600517875054
    },
    {
     "file_id": "1OG0in1AdeC8TRhaUfQg3EI84opCfTIv9",
     "timestamp": 1600413335200
    }
   ]
  },
  "kernelspec": {
   "display_name": "Python 3",
   "language": "python",
   "name": "python3"
  },
  "language_info": {
   "codemirror_mode": {
    "name": "ipython",
    "version": 3
   },
   "file_extension": ".py",
   "mimetype": "text/x-python",
   "name": "python",
   "nbconvert_exporter": "python",
   "pygments_lexer": "ipython3",
   "version": "3.7.3"
  }
 },
 "nbformat": 4,
 "nbformat_minor": 1
}
