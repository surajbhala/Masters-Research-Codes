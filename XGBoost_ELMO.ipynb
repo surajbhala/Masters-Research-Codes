{
 "cells": [
  {
   "cell_type": "code",
   "execution_count": 1,
   "metadata": {
    "colab": {
     "base_uri": "https://localhost:8080/",
     "height": 51
    },
    "executionInfo": {
     "elapsed": 1918,
     "status": "ok",
     "timestamp": 1601182600453,
     "user": {
      "displayName": "Foodie Rasa",
      "photoUrl": "",
      "userId": "07023337058901442489"
     },
     "user_tz": -330
    },
    "id": "pPygYH6SLqJp",
    "outputId": "7edf1d9a-70aa-42a4-876f-30f83c001bdf"
   },
   "outputs": [],
   "source": [
    "import os\n",
    "import numpy as np # linear algebra\n",
    "import pandas as pd # data processing, CSV file I/O (e.g. pd.read_csv)\n",
    "import string\n",
    "from tqdm import tqdm\n",
    "import math\n",
    "from sklearn.model_selection import train_test_split\n",
    "import re\n",
    "import matplotlib.pyplot as plt\n",
    "import seaborn as sns\n",
    "from nltk import word_tokenize\n",
    "from sklearn.feature_extraction.text import TfidfVectorizer\n",
    "from scipy.sparse import hstack\n",
    "from nltk import word_tokenize\n",
    "from nltk.corpus import stopwords\n",
    "from nltk import punkt\n",
    "import pickle\n",
    "import unicodedata"
   ]
  },
  {
   "cell_type": "code",
   "execution_count": 2,
   "metadata": {
    "executionInfo": {
     "elapsed": 3698,
     "status": "ok",
     "timestamp": 1601182602247,
     "user": {
      "displayName": "Foodie Rasa",
      "photoUrl": "",
      "userId": "07023337058901442489"
     },
     "user_tz": -330
    },
    "id": "rn7PYCviERoO"
   },
   "outputs": [],
   "source": [
    "from keras.preprocessing.text import Tokenizer\n",
    "from sklearn.model_selection import train_test_split,cross_val_score\n",
    "from sklearn.metrics import accuracy_score,confusion_matrix,classification_report,f1_score, precision_score, recall_score\n",
    "from keras.preprocessing import text, sequence\n",
    "from keras.layers import Embedding\n",
    "from keras import layers, models, optimizers\n",
    "import tensorflow as tf"
   ]
  },
  {
   "cell_type": "code",
   "execution_count": 3,
   "metadata": {},
   "outputs": [],
   "source": [
    "tf.compat.v1.disable_eager_execution()"
   ]
  },
  {
   "cell_type": "code",
   "execution_count": 4,
   "metadata": {
    "colab": {
     "base_uri": "https://localhost:8080/",
     "height": 34
    },
    "executionInfo": {
     "elapsed": 27272,
     "status": "ok",
     "timestamp": 1601182625840,
     "user": {
      "displayName": "Foodie Rasa",
      "photoUrl": "",
      "userId": "07023337058901442489"
     },
     "user_tz": -330
    },
    "id": "LB72FCLELsNX",
    "outputId": "4da329d3-6a61-4836-aa64-f57d0eed839f"
   },
   "outputs": [
    {
     "name": "stdout",
     "output_type": "stream",
     "text": [
      "Input data with shape :  (1306122, 3)\n"
     ]
    }
   ],
   "source": [
    "\n",
    "df = pd.read_csv(os.path.join('', \"Input_Data.csv\"))\n",
    "print(\"Input data with shape : \", df.shape)\n",
    "  \n"
   ]
  },
  {
   "cell_type": "code",
   "execution_count": 5,
   "metadata": {
    "colab": {
     "base_uri": "https://localhost:8080/",
     "height": 204
    },
    "executionInfo": {
     "elapsed": 27263,
     "status": "ok",
     "timestamp": 1601182625841,
     "user": {
      "displayName": "Foodie Rasa",
      "photoUrl": "",
      "userId": "07023337058901442489"
     },
     "user_tz": -330
    },
    "id": "vTxnywFypMs7",
    "outputId": "100d8676-8b18-45eb-d10f-8f2e66022fcf"
   },
   "outputs": [
    {
     "data": {
      "text/html": [
       "<div>\n",
       "<style scoped>\n",
       "    .dataframe tbody tr th:only-of-type {\n",
       "        vertical-align: middle;\n",
       "    }\n",
       "\n",
       "    .dataframe tbody tr th {\n",
       "        vertical-align: top;\n",
       "    }\n",
       "\n",
       "    .dataframe thead th {\n",
       "        text-align: right;\n",
       "    }\n",
       "</style>\n",
       "<table border=\"1\" class=\"dataframe\">\n",
       "  <thead>\n",
       "    <tr style=\"text-align: right;\">\n",
       "      <th></th>\n",
       "      <th>qid</th>\n",
       "      <th>question_text</th>\n",
       "      <th>target</th>\n",
       "    </tr>\n",
       "  </thead>\n",
       "  <tbody>\n",
       "    <tr>\n",
       "      <th>0</th>\n",
       "      <td>00002165364db923c7e6</td>\n",
       "      <td>How did Quebec nationalists see their province...</td>\n",
       "      <td>0</td>\n",
       "    </tr>\n",
       "    <tr>\n",
       "      <th>1</th>\n",
       "      <td>000032939017120e6e44</td>\n",
       "      <td>Do you have an adopted dog, how would you enco...</td>\n",
       "      <td>0</td>\n",
       "    </tr>\n",
       "    <tr>\n",
       "      <th>2</th>\n",
       "      <td>0000412ca6e4628ce2cf</td>\n",
       "      <td>Why does velocity affect time? Does velocity a...</td>\n",
       "      <td>0</td>\n",
       "    </tr>\n",
       "    <tr>\n",
       "      <th>3</th>\n",
       "      <td>000042bf85aa498cd78e</td>\n",
       "      <td>How did Otto von Guericke used the Magdeburg h...</td>\n",
       "      <td>0</td>\n",
       "    </tr>\n",
       "    <tr>\n",
       "      <th>4</th>\n",
       "      <td>0000455dfa3e01eae3af</td>\n",
       "      <td>Can I convert montra helicon D to a mountain b...</td>\n",
       "      <td>0</td>\n",
       "    </tr>\n",
       "  </tbody>\n",
       "</table>\n",
       "</div>"
      ],
      "text/plain": [
       "                    qid                                      question_text  \\\n",
       "0  00002165364db923c7e6  How did Quebec nationalists see their province...   \n",
       "1  000032939017120e6e44  Do you have an adopted dog, how would you enco...   \n",
       "2  0000412ca6e4628ce2cf  Why does velocity affect time? Does velocity a...   \n",
       "3  000042bf85aa498cd78e  How did Otto von Guericke used the Magdeburg h...   \n",
       "4  0000455dfa3e01eae3af  Can I convert montra helicon D to a mountain b...   \n",
       "\n",
       "   target  \n",
       "0       0  \n",
       "1       0  \n",
       "2       0  \n",
       "3       0  \n",
       "4       0  "
      ]
     },
     "execution_count": 5,
     "metadata": {},
     "output_type": "execute_result"
    }
   ],
   "source": [
    "df.head(5)"
   ]
  },
  {
   "cell_type": "code",
   "execution_count": 6,
   "metadata": {
    "executionInfo": {
     "elapsed": 27256,
     "status": "ok",
     "timestamp": 1601182625842,
     "user": {
      "displayName": "Foodie Rasa",
      "photoUrl": "",
      "userId": "07023337058901442489"
     },
     "user_tz": -330
    },
    "id": "RfqfOSQdMk3X"
   },
   "outputs": [],
   "source": [
    "df = df.drop(['qid'],axis = 1)"
   ]
  },
  {
   "cell_type": "code",
   "execution_count": 7,
   "metadata": {
    "colab": {
     "base_uri": "https://localhost:8080/",
     "height": 34
    },
    "executionInfo": {
     "elapsed": 27246,
     "status": "ok",
     "timestamp": 1601182625842,
     "user": {
      "displayName": "Foodie Rasa",
      "photoUrl": "",
      "userId": "07023337058901442489"
     },
     "user_tz": -330
    },
    "id": "dwmy6dhyMxWv",
    "outputId": "531e1cac-3b3f-426b-aae0-7c01ad40a808"
   },
   "outputs": [
    {
     "data": {
      "text/plain": [
       "(1306122, 2)"
      ]
     },
     "execution_count": 7,
     "metadata": {},
     "output_type": "execute_result"
    }
   ],
   "source": [
    "df.shape"
   ]
  },
  {
   "cell_type": "code",
   "execution_count": 8,
   "metadata": {
    "executionInfo": {
     "elapsed": 27240,
     "status": "ok",
     "timestamp": 1601182625843,
     "user": {
      "displayName": "Foodie Rasa",
      "photoUrl": "",
      "userId": "07023337058901442489"
     },
     "user_tz": -330
    },
    "id": "Wtb4xWQ8Myb8"
   },
   "outputs": [],
   "source": [
    "df_sincere = df.loc[df['target'] == 0]\n",
    "df_insincere = df.loc[df['target'] == 1]"
   ]
  },
  {
   "cell_type": "code",
   "execution_count": 9,
   "metadata": {
    "executionInfo": {
     "elapsed": 27236,
     "status": "ok",
     "timestamp": 1601182625844,
     "user": {
      "displayName": "Foodie Rasa",
      "photoUrl": "",
      "userId": "07023337058901442489"
     },
     "user_tz": -330
    },
    "id": "A30yPIC4PnLw"
   },
   "outputs": [],
   "source": [
    "df_sincere_sampled = df_sincere.sample(20000,random_state=42)\n",
    "df_insincere_sampled = df_insincere.sample(20000,random_state=42)\n"
   ]
  },
  {
   "cell_type": "code",
   "execution_count": 10,
   "metadata": {
    "colab": {
     "base_uri": "https://localhost:8080/",
     "height": 34
    },
    "executionInfo": {
     "elapsed": 27227,
     "status": "ok",
     "timestamp": 1601182625844,
     "user": {
      "displayName": "Foodie Rasa",
      "photoUrl": "",
      "userId": "07023337058901442489"
     },
     "user_tz": -330
    },
    "id": "eNE6rb87PnPI",
    "outputId": "af535f98-0bf2-4d48-e166-19f12463f107"
   },
   "outputs": [
    {
     "data": {
      "text/plain": [
       "(20000, 2)"
      ]
     },
     "execution_count": 10,
     "metadata": {},
     "output_type": "execute_result"
    }
   ],
   "source": [
    "df_sincere_sampled.shape"
   ]
  },
  {
   "cell_type": "code",
   "execution_count": 11,
   "metadata": {
    "executionInfo": {
     "elapsed": 27221,
     "status": "ok",
     "timestamp": 1601182625845,
     "user": {
      "displayName": "Foodie Rasa",
      "photoUrl": "",
      "userId": "07023337058901442489"
     },
     "user_tz": -330
    },
    "id": "Idw1MWtJPnRs"
   },
   "outputs": [],
   "source": [
    "df_main = pd.concat([df_insincere_sampled,df_sincere_sampled])"
   ]
  },
  {
   "cell_type": "code",
   "execution_count": 12,
   "metadata": {
    "colab": {
     "base_uri": "https://localhost:8080/",
     "height": 34
    },
    "executionInfo": {
     "elapsed": 27215,
     "status": "ok",
     "timestamp": 1601182625846,
     "user": {
      "displayName": "Foodie Rasa",
      "photoUrl": "",
      "userId": "07023337058901442489"
     },
     "user_tz": -330
    },
    "id": "HBy8YMxuPnU6",
    "outputId": "bc515519-bb91-407f-dc12-5699a4a759f5"
   },
   "outputs": [
    {
     "data": {
      "text/plain": [
       "(40000, 2)"
      ]
     },
     "execution_count": 12,
     "metadata": {},
     "output_type": "execute_result"
    }
   ],
   "source": [
    "df_main.shape"
   ]
  },
  {
   "cell_type": "code",
   "execution_count": null,
   "metadata": {},
   "outputs": [],
   "source": []
  },
  {
   "cell_type": "code",
   "execution_count": 13,
   "metadata": {
    "executionInfo": {
     "elapsed": 71794,
     "status": "ok",
     "timestamp": 1601182670476,
     "user": {
      "displayName": "Foodie Rasa",
      "photoUrl": "",
      "userId": "07023337058901442489"
     },
     "user_tz": -330
    },
    "id": "zyOKFzMhRAMP"
   },
   "outputs": [],
   "source": [
    "df_train, df_test = train_test_split(df_main,train_size = 0.80,random_state=24)"
   ]
  },
  {
   "cell_type": "code",
   "execution_count": 14,
   "metadata": {
    "executionInfo": {
     "elapsed": 348765,
     "status": "ok",
     "timestamp": 1601182947471,
     "user": {
      "displayName": "Foodie Rasa",
      "photoUrl": "",
      "userId": "07023337058901442489"
     },
     "user_tz": -330
    },
    "id": "0ID8nIFrLAig"
   },
   "outputs": [],
   "source": [
    "y_train = df_train['target']"
   ]
  },
  {
   "cell_type": "code",
   "execution_count": 15,
   "metadata": {
    "executionInfo": {
     "elapsed": 348760,
     "status": "ok",
     "timestamp": 1601182947471,
     "user": {
      "displayName": "Foodie Rasa",
      "photoUrl": "",
      "userId": "07023337058901442489"
     },
     "user_tz": -330
    },
    "id": "_fN8MD_kLAlV"
   },
   "outputs": [],
   "source": [
    "y_test = df_test['target']"
   ]
  },
  {
   "cell_type": "code",
   "execution_count": 16,
   "metadata": {},
   "outputs": [
    {
     "data": {
      "text/plain": [
       "8000"
      ]
     },
     "execution_count": 16,
     "metadata": {},
     "output_type": "execute_result"
    }
   ],
   "source": [
    "len(y_test)"
   ]
  },
  {
   "cell_type": "code",
   "execution_count": 17,
   "metadata": {},
   "outputs": [],
   "source": [
    "# load elmo_train_new\n",
    "pickle_in_train = open(\"elmo_train_20k_24.pickle\", \"rb\")\n",
    "elmo_train_new = pickle.load(pickle_in_train)\n",
    "\n",
    "# load elmo_train_new\n",
    "pickle_in_test = open(\"elmo_test_20k_24.pickle\", \"rb\")\n",
    "elmo_test_new = pickle.load(pickle_in_test)"
   ]
  },
  {
   "cell_type": "code",
   "execution_count": 18,
   "metadata": {
    "executionInfo": {
     "elapsed": 155783,
     "status": "ok",
     "timestamp": 1601187710008,
     "user": {
      "displayName": "Foodie Rasa",
      "photoUrl": "",
      "userId": "07023337058901442489"
     },
     "user_tz": -330
    },
    "id": "bh8syZrXXC-Z"
   },
   "outputs": [
    {
     "name": "stderr",
     "output_type": "stream",
     "text": [
      "/mnt/disks/user/anaconda3/lib/python3.7/site-packages/distributed/config.py:20: YAMLLoadWarning: calling yaml.load() without Loader=... is deprecated, as the default Loader is unsafe. Please read https://msg.pyyaml.org/load for full details.\n",
      "  defaults = yaml.load(f)\n"
     ]
    }
   ],
   "source": [
    "\n",
    "# fit xgboost on an imbalanced classification dataset\n",
    "from numpy import mean\n",
    "from sklearn.datasets import make_classification\n",
    "from sklearn.model_selection import cross_val_score\n",
    "from sklearn.model_selection import RepeatedStratifiedKFold\n",
    "from xgboost import XGBClassifier\n"
   ]
  },
  {
   "cell_type": "code",
   "execution_count": 19,
   "metadata": {},
   "outputs": [],
   "source": [
    "# define model\n",
    "model = XGBClassifier(n_jobs=3, n_estimators=500)\n"
   ]
  },
  {
   "cell_type": "code",
   "execution_count": 20,
   "metadata": {},
   "outputs": [
    {
     "data": {
      "text/plain": [
       "XGBClassifier(base_score=0.5, booster='gbtree', colsample_bylevel=1,\n",
       "              colsample_bynode=1, colsample_bytree=1, gamma=0, gpu_id=-1,\n",
       "              importance_type='gain', interaction_constraints='',\n",
       "              learning_rate=0.300000012, max_delta_step=0, max_depth=6,\n",
       "              min_child_weight=1, missing=nan, monotone_constraints='()',\n",
       "              n_estimators=500, n_jobs=3, num_parallel_tree=1, random_state=0,\n",
       "              reg_alpha=0, reg_lambda=1, scale_pos_weight=1, subsample=1,\n",
       "              tree_method='exact', validate_parameters=1, verbosity=None)"
      ]
     },
     "execution_count": 20,
     "metadata": {},
     "output_type": "execute_result"
    }
   ],
   "source": [
    "model.fit(elmo_train_new,y_train)"
   ]
  },
  {
   "cell_type": "code",
   "execution_count": 21,
   "metadata": {},
   "outputs": [],
   "source": [
    "predictions = model.predict(elmo_test_new)"
   ]
  },
  {
   "cell_type": "code",
   "execution_count": 22,
   "metadata": {},
   "outputs": [
    {
     "name": "stdout",
     "output_type": "stream",
     "text": [
      "[1 0 0 ... 0 0 0]\n"
     ]
    }
   ],
   "source": [
    "print(predictions)"
   ]
  },
  {
   "cell_type": "code",
   "execution_count": null,
   "metadata": {},
   "outputs": [],
   "source": []
  },
  {
   "cell_type": "code",
   "execution_count": 23,
   "metadata": {
    "colab": {
     "base_uri": "https://localhost:8080/",
     "height": 34
    },
    "executionInfo": {
     "elapsed": 155555,
     "status": "ok",
     "timestamp": 1601187710009,
     "user": {
      "displayName": "Foodie Rasa",
      "photoUrl": "",
      "userId": "07023337058901442489"
     },
     "user_tz": -330
    },
    "id": "lSdpt0Yh4FjE",
    "outputId": "a35da584-56cd-4e44-8431-8a415b292113"
   },
   "outputs": [
    {
     "name": "stdout",
     "output_type": "stream",
     "text": [
      "Accuracy: 88.575%\n"
     ]
    }
   ],
   "source": [
    "accuracy = accuracy_score(y_test, predictions)\n",
    "print(\"Accuracy: %.3f%%\" % (accuracy * 100.0))"
   ]
  },
  {
   "cell_type": "code",
   "execution_count": 24,
   "metadata": {},
   "outputs": [
    {
     "name": "stdout",
     "output_type": "stream",
     "text": [
      "F1 score 0.8843330802328526\n"
     ]
    }
   ],
   "source": [
    "print('F1 score',f1_score(predictions, y_test))"
   ]
  },
  {
   "cell_type": "code",
   "execution_count": 25,
   "metadata": {},
   "outputs": [
    {
     "data": {
      "text/plain": [
       "<matplotlib.axes._subplots.AxesSubplot at 0x7f038df8ce80>"
      ]
     },
     "execution_count": 25,
     "metadata": {},
     "output_type": "execute_result"
    },
    {
     "data": {
      "image/png": "[encoded data removed]",
      "text/plain": [
       "<Figure size 432x288 with 2 Axes>"
      ]
     },
     "metadata": {
      "needs_background": "light"
     },
     "output_type": "display_data"
    }
   ],
   "source": [
    "cf_matrix = confusion_matrix(predictions, y_test)\n",
    "\n",
    "import seaborn as sns\n",
    "group_names = ['True Neg','False Pos','False Neg','True Pos']\n",
    "group_counts = ['{0:0.0f}'.format(value) for value in\n",
    "                cf_matrix.flatten()]\n",
    "group_percentages = ['{0:.2%}'.format(value) for value in\n",
    "                     cf_matrix.flatten()/np.sum(cf_matrix)]\n",
    "labels = [f'{v1}\\n{v2}\\n{v3}' for v1, v2, v3 in\n",
    "          zip(group_names,group_counts,group_percentages)]\n",
    "labels = np.asarray(labels).reshape(2,2)\n",
    "sns.heatmap(cf_matrix, annot=labels, fmt='', cmap='Blues')\n"
   ]
  },
  {
   "cell_type": "code",
   "execution_count": null,
   "metadata": {},
   "outputs": [],
   "source": []
  }
 ],
 "metadata": {
  "colab": {
   "authorship_tag": "ABX9TyNNRATKOhrr7MivHf/dNHqk",
   "collapsed_sections": [],
   "mount_file_id": "1K6w1Kt2L5zqZbxsgx4kkdT7RqjfaAmJM",
   "name": "LGBM_Glove.ipynb",
   "provenance": [
    {
     "file_id": "1tYAqyFphFacRP1tXlIOP7nQHB9t-sB7d",
     "timestamp": 1601175409080
    },
    {
     "file_id": "1K6w1Kt2L5zqZbxsgx4kkdT7RqjfaAmJM",
     "timestamp": 1601127726602
    },
    {
     "file_id": "17_6UqANbu1XGp-tQ-g9UnFxHY-S_dPT3",
     "timestamp": 1600517875054
    },
    {
     "file_id": "1OG0in1AdeC8TRhaUfQg3EI84opCfTIv9",
     "timestamp": 1600413335200
    }
   ]
  },
  "kernelspec": {
   "display_name": "Python 3",
   "language": "python",
   "name": "python3"
  },
  "language_info": {
   "codemirror_mode": {
    "name": "ipython",
    "version": 3
   },
   "file_extension": ".py",
   "mimetype": "text/x-python",
   "name": "python",
   "nbconvert_exporter": "python",
   "pygments_lexer": "ipython3",
   "version": "3.7.3"
  }
 },
 "nbformat": 4,
 "nbformat_minor": 1
}
